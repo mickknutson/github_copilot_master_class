{
 "cells": [
  {
   "cell_type": "code",
   "execution_count": 7,
   "metadata": {},
   "outputs": [],
   "source": [
    "import os\n",
    "\n",
    "# Prompt for the API key\n",
    "api_key = input(\"Enter your OpenAI API key: \")\n",
    "\n",
    "# Set the environment variable\n",
    "os.environ[\"OPENAI_API_KEY\"] = api_key"
   ]
  },
  {
   "cell_type": "code",
   "execution_count": null,
   "metadata": {},
   "outputs": [],
   "source": [
    "from openai import OpenAI\n",
    "\n",
    "client = OpenAI()\n",
    "\n",
    "response = client.chat.completions.create(\n",
    "  model=\"gpt-4-turbo-preview\",\n",
    "  messages=[\n",
    "    {\n",
    "      \"role\": \"user\",\n",
    "      \"content\": \"Create a poem about 2 friends, Pedro and Cheeky\"\n",
    "    }\n",
    "  ],\n",
    "  temperature=1,\n",
    "  max_tokens=256,\n",
    "  top_p=1,\n",
    "  frequency_penalty=0,\n",
    "  presence_penalty=0\n",
    ")\n",
    "\n",
    "print(response)\n"
   ]
  },
  {
   "cell_type": "code",
   "execution_count": 8,
   "metadata": {},
   "outputs": [
    {
     "name": "stdout",
     "output_type": "stream",
     "text": [
      "ChatCompletion(id='chatcmpl-91zrHNaseJJS85OoRrLNad8HDqjcv', choices=[Choice(finish_reason='length', index=0, logprobs=None, message=ChatCompletionMessage(content='In a village painted with time’s gentle grace,\\nLived two souls with laughter lining their face.\\nPedro, with eyes like the dawn’s first light,\\nAnd Cheeky, whose spirit was a kite in flight.\\n\\nTogether they danced on life’s intricate stage,\\nFriends since childhood, their bond never aged.\\nThrough fields of gold and forests deep,\\nTheir laughter rang, a promise to keep.\\n\\nPedro, the thinker, wise and profound,\\nFound in Cheeky a joy that knew no bound.\\nWhile Cheeky teased life with a mischievous grin,\\nPedro followed, letting the light in.\\n\\nThrough seasons that changed, and years that flew,\\nTheir friendship was a constant, always anew.\\nThey shared dreams under the specter of night,\\nUnder starlit skies, their hopes took flight.\\n\\nWhen troubles came, like storms to the sea,\\nThey stood by each other, a fortress to be.\\nPedro with wisdom, and Cheeky with cheer,\\nTogether they faced each challenge, each fear.\\n\\nIn every adventure, high and low,\\nThey found their strength in the love they’d show.\\nWhether climbing mountains or crossing streams,\\nThey were each other’s rock, the team of dreams.\\n\\nTime could not wither, nor distance undo,\\nThe bond between', role='assistant', function_call=None, tool_calls=None))], created=1710263139, model='gpt-4-0125-preview', object='chat.completion', system_fingerprint='fp_31c0f205d1', usage=CompletionUsage(completion_tokens=256, prompt_tokens=20, total_tokens=276))\n"
     ]
    }
   ],
   "source": [
    "response"
   ]
  }
 ],
 "metadata": {
  "kernelspec": {
   "display_name": "Python 3",
   "language": "python",
   "name": "python3"
  },
  "language_info": {
   "codemirror_mode": {
    "name": "ipython",
    "version": 3
   },
   "file_extension": ".py",
   "mimetype": "text/x-python",
   "name": "python",
   "nbconvert_exporter": "python",
   "pygments_lexer": "ipython3",
   "version": "3.12.2"
  }
 },
 "nbformat": 4,
 "nbformat_minor": 2
}
